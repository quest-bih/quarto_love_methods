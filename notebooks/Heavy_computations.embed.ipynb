{
  "cells": [
    {
      "cell_type": "markdown",
      "metadata": {},
      "source": [
        "# Heavy_computations"
      ],
      "id": "d35d06d4-ddc6-448c-b6b9-84aae0814324"
    },
    {
      "cell_type": "code",
      "execution_count": null,
      "metadata": {},
      "outputs": [
        {
          "output_type": "stream",
          "name": "stderr",
          "text": [
            "── Attaching core tidyverse packages ──────────────────────── tidyverse 2.0.0 ──\n",
            "✔ dplyr     1.1.4     ✔ readr     2.1.5\n",
            "✔ forcats   1.0.0     ✔ stringr   1.5.1\n",
            "✔ ggplot2   3.5.1     ✔ tibble    3.2.1\n",
            "✔ lubridate 1.9.4     ✔ tidyr     1.3.1\n",
            "✔ purrr     1.0.4     \n",
            "── Conflicts ────────────────────────────────────────── tidyverse_conflicts() ──\n",
            "✖ dplyr::filter() masks stats::filter()\n",
            "✖ dplyr::lag()    masks stats::lag()\n",
            "ℹ Use the conflicted package (<http://conflicted.r-lib.org/>) to force all conflicts to become errors"
          ]
        },
        {
          "output_type": "stream",
          "name": "stderr",
          "text": [
            "\n",
            "Attaching package: 'pwrss'\n",
            "\n",
            "The following object is masked from 'package:stats':\n",
            "\n",
            "    power.t.test"
          ]
        },
        {
          "output_type": "stream",
          "name": "stderr",
          "text": [
            "\n",
            "Attaching package: 'ggdag'\n",
            "\n",
            "The following object is masked from 'package:stats':\n",
            "\n",
            "    filter"
          ]
        }
      ],
      "source": [
        "library(tidyverse)"
      ],
      "id": "cdebe4d6-57a7-4373-ba42-3b9abd221f4c"
    },
    {
      "cell_type": "markdown",
      "metadata": {},
      "source": [
        "Here we can place some heavy computations that should not slow down the\n",
        "rendering of the main document. We can also place solutions to the\n",
        "coding exercises from the main notebook."
      ],
      "id": "475fc708-ca02-4ad4-a60c-479b462c46e2"
    },
    {
      "cell_type": "code",
      "execution_count": null,
      "metadata": {},
      "outputs": [
        {
          "output_type": "display_data",
          "metadata": {},
          "data": {
            "image/png": "[encoded data removed]"
          }
        }
      ],
      "source": [
        "#| label: fig-dag\n",
        "#| fig-cap: Directed Acyclic Graph reproduced from a previously published study. \n",
        "\n",
        "smoking_ca_dag <- dagify(\n",
        "  lungcancer ~ exercise + smoking,\n",
        "  exercise ~ smoking,\n",
        "  labels = c(\n",
        "    \"lungcancer\" = \"Lung\\n Cancer\",\n",
        "    \"smoking\" = \"Smoking\",\n",
        "    \"exercise\" = \"Exercise\"\n",
        "  ),\n",
        "  # latent = \"smoking\",\n",
        "  exposure = \"exercise\",\n",
        "  outcome = \"lungcancer\"\n",
        ")\n",
        "\n",
        "ggdag(smoking_ca_dag, text = FALSE, use_labels = \"label\") +\n",
        "  theme_void()\n",
        "# \n",
        "# ggdag_paths(smoking_ca_dag, text = FALSE, use_labels = \"label\", shadow = TRUE) +\n",
        "#   theme_void()\n",
        "\n",
        "# ggdag_adjustment_set(smoking_ca_dag, text = FALSE, use_labels = \"label\", shadow = TRUE) +\n",
        "#   theme_void()"
      ],
      "id": "cell-fig-dag"
    },
    {
      "cell_type": "code",
      "execution_count": null,
      "metadata": {},
      "outputs": [
        {
          "output_type": "display_data",
          "metadata": {},
          "data": {
            "image/png": "[encoded data removed]"
          }
        }
      ],
      "source": [
        "#| label: fig-dagadjustment\n",
        "#| fig-cap: The adjustment set for the Directed Acyclic Graph reproduced from a previously published study. \n",
        "\n",
        "ggdag_adjustment_set(smoking_ca_dag, text = FALSE, use_labels = \"label\", shadow = TRUE) +\n",
        "  theme_void()"
      ],
      "id": "cell-fig-dagadjustment"
    },
    {
      "cell_type": "markdown",
      "metadata": {},
      "source": [
        "To learn more about adjustment sets, see @ggdag.\n",
        "\n",
        "We can also make an inclusion/exclusion flowchart."
      ],
      "id": "f3082409-9733-4f5a-9f60-34ea404d7ad3"
    },
    {
      "cell_type": "code",
      "execution_count": null,
      "metadata": {},
      "outputs": [
        {
          "output_type": "display_data",
          "metadata": {},
          "data": {
            "image/png": "[encoded data removed]"
          }
        }
      ],
      "source": [
        "#| label: fig-flowchart-embeded\n",
        "#| fig-cap: Flowchart created with the `flowchart` library, but this time saved in another notebook.\n",
        "#| fig-width: 9\n",
        "\n",
        "n_total <- 34581\n",
        "n_potential <- 48\n",
        "n_prior_pregnancy <- 3\n",
        "n_pregnancy <- 2\n",
        "n_excluded <- n_prior_pregnancy + n_pregnancy\n",
        "n_included <- n_potential - n_excluded\n",
        "\n",
        "ids_potential <- sample(n_total, n_potential)  \n",
        "ids_excluded <- sample(ids_potential, n_excluded)\n",
        "ids_pregnancy <- sample(ids_excluded, n_pregnancy)\n",
        "ids_prior_pregnancy <- ids_excluded[!ids_excluded %in% ids_pregnancy]\n",
        "  \n",
        "all_women <- tibble(ids_women = 1:n_total) |> \n",
        "  mutate(potential = ids_women %in% ids_potential,\n",
        "         excluded = ids_women %in% ids_excluded,\n",
        "         prior_pregnancy = ids_women %in% ids_prior_pregnancy,\n",
        "         pregnancy = ids_women %in% ids_pregnancy,\n",
        "         included = ids_women %in% ids_potential & !ids_women %in% ids_excluded)\n",
        "\n",
        "text_pattern <- \"{label}\\n(n = {format(n, big.mark=',')})\"\n",
        "\n",
        "all_women |> \n",
        "  as_fc(label = \"Women with live or stillbirth from 1976 to 2010\\nsent to US Rental Data Sysem\",\n",
        "        text_pattern = text_pattern, text_fs = 12) |> \n",
        "  fc_filter(potential, label = \"Potential end stage renal disease cases\", text_pattern = text_pattern, text_fs = 12) |> \n",
        "  fc_filter(included, label = \"End stage renal disease cases\", text_pattern = text_pattern, show_exc = TRUE, text_fs = 12) |> \n",
        "  fc_modify(\n",
        "    ~ . |> \n",
        "      mutate(\n",
        "        text = ifelse(id == 4, str_glue(\"Excluded (n = {n_excluded})\\nEnd stage renal disease prior to any pregnancy (n = {sum(all_women$prior_pregnancy)})\\nEnd stage renal disease during any pregnancy (n = {sum(all_women$pregnancy)})\"), text),\n",
        "        x = case_when(\n",
        "          id == 4 ~ 0.81,\n",
        "          .default = x\n",
        "        ),\n",
        "        text_fs = case_when(\n",
        "          id == 4 ~ 9,\n",
        "          .default = 11\n",
        "        ),\n",
        "        # just = \"left\"\n",
        "      )\n",
        "  ) |> \n",
        "  fc_draw(box_corners = \"sharp\")"
      ],
      "id": "cell-fig-flowchart-embeded"
    },
    {
      "cell_type": "markdown",
      "metadata": {},
      "source": [
        "## Solutions\n",
        "\n",
        "> **Task II**\n",
        ">\n",
        "> 1.  \n",
        ">\n",
        "> ``` r\n",
        "> power_calculation <- pwrss.t.2means(mu1 = 30, mu2 = 25, sd1 = 11, sd2 = 8, kappa = 1, \n",
        ">                power = .80, alpha = 0.05,\n",
        ">                alternative = \"not equal\")\n",
        "> ```\n",
        ">\n",
        ">      Difference between Two means \n",
        ">      (Independent Samples t Test) \n",
        ">      H0: mu1 = mu2 \n",
        ">      HA: mu1 != mu2 \n",
        ">      ------------------------------ \n",
        ">       Statistical power = 0.8 \n",
        ">       n1 = 60 \n",
        ">       n2 = 60 \n",
        ">      ------------------------------ \n",
        ">      Alternative = \"not equal\" \n",
        ">      Degrees of freedom = 118 \n",
        ">      Non-centrality parameter = 2.847 \n",
        ">      Type I error rate = 0.05 \n",
        ">      Type II error rate = 0.2 \n",
        ">\n",
        "> We used n = 60 wild type and n = 60 knockout mice.\n",
        ">\n",
        "> 1.  The total sample size was n = 120.\n",
        "> 2.  \n",
        ">\n",
        "> ``` r\n",
        "> n_subsample <- 20\n",
        "> set.seed(42)\n",
        "> iris_random <- iris |>\n",
        ">   slice_sample(n = n_subsample) |> \n",
        ">   count(Species) |> \n",
        ">   pivot_wider(names_from = Species, values_from = n)\n",
        "> ```\n",
        ">\n",
        "> There were n = 6 *I. setosa*, n = 9 *I. virginica*, n = 5 *I.\n",
        "> versicolor* in this random subsample of n = 20 plants."
      ],
      "id": "3b472065-511c-439f-a01b-db1254da064e"
    }
  ],
  "nbformat": 4,
  "nbformat_minor": 5,
  "metadata": {
    "kernelspec": {
      "display_name": "Python 3",
      "language": "python",
      "name": "python3"
    }
  }
}